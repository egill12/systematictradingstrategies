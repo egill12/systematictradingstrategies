{
 "cells": [
  {
   "cell_type": "code",
   "execution_count": 1,
   "metadata": {
    "collapsed": true
   },
   "outputs": [],
   "source": [
    "# candle sticks image processing\n",
    "# simple example from the researchers code https://github.com/pecu/Series2GAF/blob/master/cnn_example/README.md\n",
    "# GOAL# firstly image process the candle stick chart, high open low close needed I guess?\n",
    "# How will you classify the shapes? need to measure slope etc and assign a value?\n",
    "# Get CNN workgin with some level of input data\n",
    "# How do we then process the pickle file to train a GAN? create the full cycle and then worry about input data and if that is correct.\n",
    "# then select the model featres, and pattern match the shit out of it.\n",
    "import numpy as np\n",
    "from series2gaf import *\n",
    "import pandas as pd\n",
    "from matplotlib import pyplot as plt\n",
    "from sklearn.linear_model import LinearRegression\n",
    "EURUSD = pd.DataFrame(pd.read_csv(r\"C:\\Users\\edgil\\Documents\\SysTrade\\candlesticks\\EURUSDOHLC.csv\"))\n",
    "EURUSD['Datetime'] = pd.to_datetime(EURUSD['Datetime'], format=\"%d/%m/%Y %H:%M\")\n",
    "\n",
    "testdata = EURUSD[85000:86000]"
   ]
  },
  {
   "cell_type": "code",
   "execution_count": 32,
   "metadata": {
    "collapsed": false
   },
   "outputs": [
    {
     "name": "stdout",
     "output_type": "stream",
     "text": [
      "[0.0461034]\n"
     ]
    }
   ],
   "source": [
    "# add a Rolling regression slope term to fx data\n",
    "model = LinearRegression()\n",
    "def RegressionCoeff(depedent):\n",
    "    yx = pd.concat([pd.DataFrame(depedent),pd.DataFrame(depedent).shift(1).dropna()], axis = 1).dropna()\n",
    "    yx.columns = [\"y\", \"x\"]\n",
    "    # single variable only for reshape of -1,1\n",
    "    ols = model.fit(np.array(yx[\"x\"]).reshape(-1,1), np.array(yx[\"y\"]))\n",
    "    return(ols.coef_)\n",
    "\n",
    "#print(ols.coef_)\n",
    "    \n",
    "#testdata.columns\n",
    "y = testdata[\"Close\"].tail(10)\n",
    "x = y.shift(1).dropna()\n",
    "# axis = 1 merge on col\n",
    "yx = pd.concat([y,x], axis = 1).dropna()\n",
    "yx.columns = [\"y\", \"x\"]\n",
    "dependent = np.array(yx[\"y\"])\n",
    "# need to use reshape here as the explanatory variables need to be in form [[sample pred], [another iteration/row], [3rd row]] etc\n",
    "explanatory = np.array(yx[\"x\"]).reshape(-1,1)\n",
    "ols = model.fit(explanatory, dependent)\n",
    "\n",
    "print(ols.coef_)\n"
   ]
  },
  {
   "cell_type": "code",
   "execution_count": 40,
   "metadata": {},
   "outputs": [
    {
     "name": "stderr",
     "output_type": "stream",
     "text": [
      "C:\\Users\\edgil\\AppData\\Local\\Programs\\Python\\Python36\\lib\\site-packages\\ipykernel_launcher.py:1: SettingWithCopyWarning: \nA value is trying to be set on a copy of a slice from a DataFrame.\nTry using .loc[row_indexer,col_indexer] = value instead\n\nSee the caveats in the documentation: http://pandas.pydata.org/pandas-docs/stable/indexing.html#indexing-view-versus-copy\n  \"\"\"Entry point for launching an IPython kernel.\n"
     ]
    }
   ],
   "source": [
    "testdata[\"Slope\"] = testdata[[\"Close\"]].rolling(20).apply(RegressionCoeff)\n"
   ]
  },
  {
   "cell_type": "code",
   "execution_count": 20,
   "metadata": {},
   "outputs": [
    {
     "name": "stderr",
     "output_type": "stream",
     "text": [
      "\rGenerating...:   0%|          | 0/18 [00:00<?, ?it/s]"
     ]
    },
    {
     "name": "stderr",
     "output_type": "stream",
     "text": [
      "\rGenerating...: 100%|##########| 18/18 [00:00<00:00, 295.73it/s]"
     ]
    },
    {
     "name": "stderr",
     "output_type": "stream",
     "text": [
      "\n"
     ]
    },
    {
     "name": "stderr",
     "output_type": "stream",
     "text": [
      "\rOutput Heatmaps...:   0%|          | 0/18 [00:00<?, ?it/s]"
     ]
    },
    {
     "name": "stderr",
     "output_type": "stream",
     "text": [
      "\rOutput Heatmaps...:   6%|5         | 1/18 [00:00<00:03,  5.48it/s]"
     ]
    },
    {
     "name": "stderr",
     "output_type": "stream",
     "text": [
      "\rOutput Heatmaps...:  11%|#1        | 2/18 [00:00<00:02,  5.53it/s]"
     ]
    },
    {
     "name": "stderr",
     "output_type": "stream",
     "text": [
      "\rOutput Heatmaps...:  17%|#6        | 3/18 [00:00<00:02,  5.33it/s]"
     ]
    },
    {
     "name": "stderr",
     "output_type": "stream",
     "text": [
      "\rOutput Heatmaps...:  22%|##2       | 4/18 [00:00<00:02,  5.30it/s]"
     ]
    },
    {
     "name": "stderr",
     "output_type": "stream",
     "text": [
      "\rOutput Heatmaps...:  28%|##7       | 5/18 [00:00<00:02,  5.32it/s]"
     ]
    },
    {
     "name": "stderr",
     "output_type": "stream",
     "text": [
      "\rOutput Heatmaps...:  33%|###3      | 6/18 [00:01<00:02,  5.37it/s]"
     ]
    },
    {
     "name": "stderr",
     "output_type": "stream",
     "text": [
      "\rOutput Heatmaps...:  39%|###8      | 7/18 [00:01<00:01,  5.50it/s]"
     ]
    },
    {
     "name": "stderr",
     "output_type": "stream",
     "text": [
      "\rOutput Heatmaps...:  44%|####4     | 8/18 [00:01<00:01,  5.89it/s]"
     ]
    },
    {
     "name": "stderr",
     "output_type": "stream",
     "text": [
      "\rOutput Heatmaps...:  50%|#####     | 9/18 [00:01<00:01,  6.02it/s]"
     ]
    },
    {
     "name": "stderr",
     "output_type": "stream",
     "text": [
      "\rOutput Heatmaps...:  56%|#####5    | 10/18 [00:01<00:01,  6.31it/s]"
     ]
    },
    {
     "name": "stderr",
     "output_type": "stream",
     "text": [
      "\rOutput Heatmaps...:  61%|######1   | 11/18 [00:01<00:01,  6.40it/s]"
     ]
    },
    {
     "name": "stderr",
     "output_type": "stream",
     "text": [
      "\rOutput Heatmaps...:  67%|######6   | 12/18 [00:02<00:00,  6.47it/s]"
     ]
    },
    {
     "name": "stderr",
     "output_type": "stream",
     "text": [
      "\rOutput Heatmaps...:  72%|#######2  | 13/18 [00:02<00:00,  6.68it/s]"
     ]
    },
    {
     "name": "stderr",
     "output_type": "stream",
     "text": [
      "\rOutput Heatmaps...:  78%|#######7  | 14/18 [00:02<00:00,  6.79it/s]"
     ]
    },
    {
     "name": "stderr",
     "output_type": "stream",
     "text": [
      "\rOutput Heatmaps...:  83%|########3 | 15/18 [00:02<00:00,  6.75it/s]"
     ]
    },
    {
     "name": "stderr",
     "output_type": "stream",
     "text": [
      "\rOutput Heatmaps...:  89%|########8 | 16/18 [00:02<00:00,  6.83it/s]"
     ]
    },
    {
     "name": "stderr",
     "output_type": "stream",
     "text": [
      "\rOutput Heatmaps...:  94%|#########4| 17/18 [00:02<00:00,  6.84it/s]"
     ]
    },
    {
     "name": "stderr",
     "output_type": "stream",
     "text": [
      "\rOutput Heatmaps...: 100%|##########| 18/18 [00:02<00:00,  6.95it/s]"
     ]
    },
    {
     "name": "stderr",
     "output_type": "stream",
     "text": [
      "\rOutput Heatmaps...: 100%|##########| 18/18 [00:02<00:00,  6.21it/s]"
     ]
    },
    {
     "name": "stderr",
     "output_type": "stream",
     "text": [
      "\n"
     ]
    },
    {
     "data": {
      "text/plain": [
       "<matplotlib.figure.Figure at 0xd15eb50>"
      ]
     },
     "execution_count": 0,
     "metadata": {},
     "output_type": "execute_result"
    }
   ],
   "source": [
    "# workings\n",
    "testy = testdata[[\"Open\",\"High\", \"Low\",\"Close\"]].values\n",
    "flat_list = [item for sublist in testy for item in sublist]\n",
    "\n",
    "from series2gaf import *\n",
    "random_series = np.random.uniform(low=50.0, high=150.0, size=(200,))\n",
    "\n",
    "timeSeries = list(random_series)\n",
    "window_size = 100 #5\n",
    "rolling_length = 50 #2\n",
    "fileName = 'demo_%02d_%02d' % (windowSize, rollingLength)\n",
    "# gan_rand is made  up of 10 elements (lists, which are image windows), within that is a further 50 elements (np.array) and in each of those arrays we have a further 50 numbers (whihc are the params for each image window).\n",
    "# when using win = 5 and rolling = 2, then gan rand was 95 elements, with 5 further elements (np.array) and then another 5 inside.\n",
    "# th enormalise window scaling of 2 doubles up the window length.\n",
    "# now we get a file named demo_50_10_gaf.pkl in current directory. inside the pickle file, you got a grammian angular field with shape (15, 50, 50).\n",
    "\n",
    "# shape[0] refers to data amount : floor((len(timeSeries)-(normalize_window_scaling-1)*windowSize)/windowSize)\n",
    "# shape[1] refers to image width : sliding windowSize of the picture to make into a GAF\n",
    "# shape[2] refers to image height : wthe number of steps to move forward before runnign another GAF, i.e. overlapping?\n",
    "gan_rand = GenerateGAF(all_ts=testy,\n",
    "            window_size=window_size,\n",
    "            rolling_length=rolling_length,\n",
    "            fname=fileName,\n",
    "            normalize_window_scaling=1.0)\n",
    "\n",
    "ts_img = np.load('%s_gaf.pkl' % fileName)\n",
    "PlotHeatmap(ts_img)"
   ]
  },
  {
   "cell_type": "code",
   "execution_count": null,
   "metadata": {},
   "outputs": [],
   "source": [
    "# stage 2, input the GAF data to the CNN data.\n",
    "# https://towardsdatascience.com/understanding-and-implementing-lenet-5-cnn-architecture-deep-learning-a2d531ebc342\n",
    "# Le Net tensor flow implementation --> https://colab.research.google.com/drive/1kV3Jpxzup63GfJB1FGKxTSKd6Ek8J3sA\n",
    "# Le Net Keras implementation --> https://colab.research.google.com/drive/1CVm50PGE4vhtB5I_a_yc4h5F-itKOVL9\n",
    "from keras.models import Sequential\n",
    "from keras.layers import LSTM\n",
    "from keras.layers import Dense\n",
    "import pandas as pd\n",
    "import numpy as np\n",
    "from sklearn.model_selection import train_test_split\n",
    "from sklearn.metrics import accuracy_score\n",
    "from sklearn.metrics import confusion_matrix\n",
    "from sklearn.decomposition import PCA\n",
    "\n",
    "model = keras.Sequential()\n",
    "\n",
    "model.add(layers.Conv2D(filters=6, kernel_size=(3, 3), activation='relu', input_shape=(32,32,1)))\n",
    "model.add(layers.AveragePooling2D())\n",
    "\n",
    "model.add(layers.Conv2D(filters=16, kernel_size=(3, 3), activation='relu'))\n",
    "model.add(layers.AveragePooling2D())\n",
    "\n",
    "model.add(layers.Flatten())\n",
    "\n",
    "model.add(layers.Dense(units=120, activation='relu'))\n",
    "\n",
    "model.add(layers.Dense(units=84, activation='relu'))\n",
    "\n",
    "model.add(layers.Dense(units=10, activation = 'softmax'))"
   ]
  },
  {
   "cell_type": "code",
   "execution_count": 28,
   "metadata": {
    "collapsed": false
   },
   "outputs": [
    {
     "data": {
      "image/png": "[encoded data removed]",
      "text/plain": [
       "<matplotlib.figure.Figure at 0x1544430>"
      ]
     },
     "metadata": {},
     "output_type": "display_data"
    }
   ],
   "source": [
    "import matplotlib.pyplot as plt\n",
    "import matplotlib.dates as mpl_dates\n",
    "from matplotlib.finance import candlestick_ohlc\n",
    "testdata = EURUSD[85000:86000]\n",
    "ohlc = testdata[[\"Datetime\",\"Open\",\"High\", \"Low\",\"Close\"]]\n",
    "# apply datetime to all py_ timestamp objects (pd.to_datetime makes a timestamp object\n",
    "#ohlc[\"TrueDt\"] = ohlc[\"Datetime\"].map(lambda ts: ts.to_pydatetime())\n",
    "#ohlc[\"Datetime\"] = ohlc[\"Datetime\"].dt.to_pydatetime()\n",
    "ohlc['Datetime'] = ohlc['Datetime'].apply(mpl_dates.date2num)\n",
    "ohlc = ohlc.astype(float)\n",
    "\n",
    "# Creating Subplots\n",
    "fig, ax = plt.subplots()\n",
    "\n",
    "#candlestick_ohlc(ax, opens = ohlc[\"Open\"].values,highs = ohlc[\"High\"].values, lows = ohlc[\"Low\"].values,closes = ohlc[\"Close\"].values, width=0.6, colorup='green', colordown='red', alpha=0.8)\n",
    "candlestick_ohlc(ax,ohlc.values , width=0.7, colorup='green', colordown='red', alpha=0.8)\n",
    "\n",
    "# Setting labels & titles\n",
    "ax.set_xlabel('Date')\n",
    "ax.set_ylabel('Price')\n",
    "fig.suptitle('Minutely Candlestick Chart of EURUSD', y = 0.25)\n",
    "\n",
    "# Formatting Date\n",
    "#date_format = mpl_dates.DateFormatter('%d-%m-%Y %')\n",
    "#ax.xaxis.set_major_formatter(date_format)\n",
    "#fig.autofmt_xdate()\n",
    "\n",
    "fig.tight_layout()\n",
    "\n",
    "plt.show()"
   ]
  },
  {
   "cell_type": "code",
   "execution_count": 41,
   "metadata": {},
   "outputs": [
    {
     "data": {
      "text/plain": [
       "[<matplotlib.lines.Line2D at 0x18e6550>]"
      ]
     },
     "execution_count": 41,
     "metadata": {},
     "output_type": "execute_result"
    },
    {
     "data": {
      "image/png": "[encoded data removed]",
      "text/plain": [
       "<matplotlib.figure.Figure at 0x18ca230>"
      ]
     },
     "metadata": {},
     "output_type": "display_data"
    }
   ],
   "source": [
    "import matplotlib.pyplot as plt\n",
    "plt.subplot(2, 1, 1)\n",
    "plt.plot(testdata[\"Slope\"])\n",
    "plt.subplot(2, 1, 2)\n",
    "plt.plot(testdata[\"Close\"])"
   ]
  }
 ],
 "metadata": {
  "kernelspec": {
   "display_name": "Python 2",
   "language": "python",
   "name": "python2"
  },
  "language_info": {
   "codemirror_mode": {
    "name": "ipython",
    "version": 2
   },
   "file_extension": ".py",
   "mimetype": "text/x-python",
   "name": "python",
   "nbconvert_exporter": "python",
   "pygments_lexer": "ipython2",
   "version": "2.7.6"
  }
 },
 "nbformat": 4,
 "nbformat_minor": 0
}
