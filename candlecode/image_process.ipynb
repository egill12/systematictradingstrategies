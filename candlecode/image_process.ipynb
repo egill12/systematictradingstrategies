{
 "cells": [
  {
   "cell_type": "code",
   "execution_count": 7,
   "metadata": {
    "collapsed": true
   },
   "outputs": [],
   "source": [
    "# candle sticks image processing\n",
    "# simple example from the researchers code https://github.com/pecu/Series2GAF/blob/master/cnn_example/README.md\n",
    "# GOAL# firstly image process the candle stick chart, high open low close needed I guess?\n",
    "# How do we then process the pickle file to train a GAN? create the full cycle and then worry about input data and if that is correct.\n",
    "# then select the model featres, and pattern match the shit out of it.\n",
    "import numpy as np\n",
    "from series2gaf import *\n",
    "import pandas as pd\n",
    "\n",
    "EURUSD = pd.DataFrame(pd.read_csv(r\"C:\\Users\\edgil\\Documents\\SysTrade\\candlesticks\\EURUSDOHLC.csv\"))\n",
    "EURUSD['Datetime'] = pd.to_datetime(EURUSD['Datetime'], format=\"%d/%m/%Y %H:%M\")\n",
    "\n",
    "testdata = EURUSD[:200]\n"
   ]
  },
  {
   "cell_type": "code",
   "execution_count": 9,
   "metadata": {
    "collapsed": false
   },
   "outputs": [
    {
     "name": "stderr",
     "output_type": "stream",
     "text": [
      "\rGenerating...: 0it [00:00, ?it/s]"
     ]
    },
    {
     "name": "stderr",
     "output_type": "stream",
     "text": [
      "\rGenerating...: 0it [00:00, ?it/s]"
     ]
    },
    {
     "name": "stdout",
     "output_type": "stream",
     "text": [
      "             Datetime     Open     High      Low    Close\n0 2002-05-05 19:00:00  0.91730  0.91730  0.91730  0.91730\n1 2002-05-06 20:00:00  0.91825  0.91825  0.91825  0.91825\n2 2002-05-07 20:00:00  0.91535  0.91535  0.91535  0.91535\n3 2002-05-08 20:00:00  0.90435  0.90435  0.90435  0.90435\n4 2002-05-09 20:00:00  0.90935  0.90935  0.90935  0.90935\n"
     ]
    },
    {
     "name": "stderr",
     "output_type": "stream",
     "text": [
      "\nC:\\Users\\edgil\\Documents\\SysTrade\\candlesticks\\candlecode\\series2gaf.py:83: RuntimeWarning: divide by zero encountered in log10\n  fname_zero_padding_size = int(np.ceil(np.log10(total_length)))\n"
     ]
    },
    {
     "ename": "OverflowError",
     "evalue": "cannot convert float infinity to integer",
     "traceback": [
      "\u001b[0;31m---------------------------------------------------------------------------\u001b[0m",
      "\u001b[0;31mOverflowError\u001b[0m                             Traceback (most recent call last)",
      "\u001b[0;32m<ipython-input-9-db0764a83f32>\u001b[0m in \u001b[0;36m<module>\u001b[0;34m()\u001b[0m\n\u001b[1;32m      9\u001b[0m             normalize_window_scaling=2.0)\n\u001b[1;32m     10\u001b[0m \u001b[0mts_img\u001b[0m \u001b[0;34m=\u001b[0m \u001b[0mnp\u001b[0m\u001b[0;34m.\u001b[0m\u001b[0mload\u001b[0m\u001b[0;34m(\u001b[0m\u001b[0;34m'%s_gaf.pkl'\u001b[0m \u001b[0;34m%\u001b[0m \u001b[0mfileName\u001b[0m\u001b[0;34m)\u001b[0m\u001b[0;34m\u001b[0m\u001b[0m\n\u001b[0;32m---> 11\u001b[0;31m \u001b[0mPlotHeatmap\u001b[0m\u001b[0;34m(\u001b[0m\u001b[0mts_img\u001b[0m\u001b[0;34m)\u001b[0m\u001b[0;34m\u001b[0m\u001b[0m\n\u001b[0m",
      "\u001b[0;32mC:\\Users\\edgil\\Documents\\SysTrade\\candlesticks\\candlecode\\series2gaf.py\u001b[0m in \u001b[0;36mPlotHeatmap\u001b[0;34m(all_img, save_dir)\u001b[0m\n\u001b[1;32m     81\u001b[0m \u001b[0;34m\u001b[0m\u001b[0m\n\u001b[1;32m     82\u001b[0m \u001b[0;34m\u001b[0m\u001b[0m\n\u001b[0;32m---> 83\u001b[0;31m     \u001b[0mfname_zero_padding_size\u001b[0m \u001b[0;34m=\u001b[0m \u001b[0mint\u001b[0m\u001b[0;34m(\u001b[0m\u001b[0mnp\u001b[0m\u001b[0;34m.\u001b[0m\u001b[0mceil\u001b[0m\u001b[0;34m(\u001b[0m\u001b[0mnp\u001b[0m\u001b[0;34m.\u001b[0m\u001b[0mlog10\u001b[0m\u001b[0;34m(\u001b[0m\u001b[0mtotal_length\u001b[0m\u001b[0;34m)\u001b[0m\u001b[0;34m)\u001b[0m\u001b[0;34m)\u001b[0m\u001b[0;34m\u001b[0m\u001b[0m\n\u001b[0m\u001b[1;32m     84\u001b[0m \u001b[0;34m\u001b[0m\u001b[0m\n\u001b[1;32m     85\u001b[0m \u001b[0;34m\u001b[0m\u001b[0m\n",
      "\u001b[0;31mOverflowError\u001b[0m: cannot convert float infinity to integer"
     ],
     "output_type": "error"
    }
   ],
   "source": [
    "print(testdata.head())\n",
    "windowSize = 50\n",
    "rollingLength = 10\n",
    "fileName = 'demo_%02d_%02d' % (windowSize, rollingLength)\n",
    "GenerateGAF(all_ts=list(testdata),\n",
    "            window_size=windowSize,\n",
    "            rolling_length=rollingLength,\n",
    "            fname=fileName,\n",
    "            normalize_window_scaling=2.0)\n",
    "ts_img = np.load('%s_gaf.pkl' % fileName)\n",
    "PlotHeatmap(ts_img)"
   ]
  },
  {
   "cell_type": "code",
   "execution_count": 6,
   "metadata": {},
   "outputs": [
    {
     "name": "stderr",
     "output_type": "stream",
     "text": [
      "\rGenerating...:   0%|          | 0/95 [00:00<?, ?it/s]"
     ]
    },
    {
     "name": "stderr",
     "output_type": "stream",
     "text": [
      "\rGenerating...: 100%|##########| 95/95 [00:00<00:00, 4763.92it/s]"
     ]
    },
    {
     "name": "stderr",
     "output_type": "stream",
     "text": [
      "\n\rOutput Heatmaps...:   0%|          | 0/95 [00:00<?, ?it/s]"
     ]
    },
    {
     "name": "stderr",
     "output_type": "stream",
     "text": [
      "\rOutput Heatmaps...:   1%|1         | 1/95 [00:00<00:14,  6.43it/s]"
     ]
    },
    {
     "name": "stdout",
     "output_type": "stream",
     "text": [
      "[ 84.15335143  52.67315113  76.59139546 120.86149987  57.67459012\n  68.559786    61.55068715 143.79327808 109.03667886 123.09106094\n  65.69270323  54.87182056 118.44534286 131.30031892  64.44268113\n  72.80777582 135.45994309  69.64752087 115.67601847  65.17768958\n 146.64734751 112.93716089 128.55218674 141.86989937  76.97627871\n 116.74813151  60.45072189  66.3474714   84.40635682  90.72280316\n 117.36320557 138.68852611  92.90724792 138.26007828 129.12685261\n  75.15106182 149.38766023  77.60960387 149.59515068  69.51257361\n  64.57840344  56.47916005  93.6600489  130.48597018  54.03215523\n 129.37835369  50.45250013  94.45880377  95.8428362   78.80040168\n  94.81971609 147.42237072  80.73888975  51.79993548 121.92387002\n 145.39995699  72.35502221  59.12464978  79.34250407  97.02026124\n  57.01458695  73.85752972 112.44472792 112.01408474 107.54291523\n 142.64658356 103.25546601  98.5055589  129.01804769  70.3365592\n  82.32915211  98.68707453  89.06786508  73.09404964 140.13679418\n  74.66030568 131.90612253  96.34073502 104.18270948  88.07502326\n 129.22787545 136.66676168  63.02923183  82.03563811 146.75622689\n  88.6902858  117.93305886  51.75211186 143.19128829 121.25983128\n  88.14670148 142.46899098 142.58216385  59.21781808 139.05827449\n 119.66056409 125.13851677  67.99536512  66.51475733 111.81877884\n  76.38338929 140.166072   108.45214135 132.99729044  60.20457811\n 121.87132999  90.79561258  95.11705009 124.05484536 144.16024431\n  97.51438727  74.34357081 140.01359658 143.39494838  75.20774056\n  80.63061717 135.13165475 115.56491333  94.36090153  58.43736566\n  70.76460417  63.95362004  85.56431555 148.92028686 126.86454524\n 137.37846716  68.00954411 107.62252988  60.16955143  99.55288699\n  92.17129424  95.78728299 105.68866281  97.45952082  99.31339381\n 120.13667523 141.92056937  57.34651631  99.77305532  74.90546436\n  71.03723699 135.70392713 141.27981618 147.10818887 102.84802186\n  65.02880266  95.80256589 125.56294363  69.25810394  51.51415125\n 125.36301662 107.94965528  59.28579751 148.58872409 108.01107179\n 148.29533073  96.2644035   67.46843273 113.9174376   93.93458005\n  80.70365149  96.38604002 136.13103117 109.06258579  77.91143862\n 128.60472931 103.79307444  93.11729994  83.1857817   94.51561725\n 118.75472709 102.88235136  72.59374252 100.42937895  68.58450084\n 133.76715598  58.94436926  73.57127569  73.05055684  77.07842668\n  67.5410632   71.3318744  112.6830597  129.21076607 115.90738704\n 108.40290149 142.14059314 134.146436    90.11755459 120.63005103\n 107.75741934 142.82569144 112.95203086 116.65392896  72.55650801\n 106.00133575 146.42872036  53.82179212  90.12148043  80.91254945]\n"
     ]
    },
    {
     "name": "stderr",
     "output_type": "stream",
     "text": [
      "\rOutput Heatmaps...:   2%|2         | 2/95 [00:00<00:13,  6.71it/s]"
     ]
    },
    {
     "name": "stderr",
     "output_type": "stream",
     "text": [
      "\rOutput Heatmaps...:   3%|3         | 3/95 [00:00<00:14,  6.44it/s]"
     ]
    },
    {
     "name": "stderr",
     "output_type": "stream",
     "text": [
      "\rOutput Heatmaps...:   4%|4         | 4/95 [00:00<00:13,  6.95it/s]"
     ]
    },
    {
     "name": "stderr",
     "output_type": "stream",
     "text": [
      "\rOutput Heatmaps...:   6%|6         | 6/95 [00:00<00:11,  7.57it/s]"
     ]
    },
    {
     "name": "stderr",
     "output_type": "stream",
     "text": [
      "\rOutput Heatmaps...:   7%|7         | 7/95 [00:00<00:11,  7.45it/s]"
     ]
    },
    {
     "name": "stderr",
     "output_type": "stream",
     "text": [
      "\rOutput Heatmaps...:   8%|8         | 8/95 [00:01<00:12,  7.14it/s]"
     ]
    },
    {
     "name": "stderr",
     "output_type": "stream",
     "text": [
      "\rOutput Heatmaps...:   9%|9         | 9/95 [00:01<00:12,  7.04it/s]"
     ]
    },
    {
     "name": "stderr",
     "output_type": "stream",
     "text": [
      "\rOutput Heatmaps...:  11%|#         | 10/95 [00:01<00:12,  6.92it/s]"
     ]
    },
    {
     "name": "stderr",
     "output_type": "stream",
     "text": [
      "\rOutput Heatmaps...:  12%|#1        | 11/95 [00:01<00:11,  7.03it/s]"
     ]
    },
    {
     "name": "stderr",
     "output_type": "stream",
     "text": [
      "\rOutput Heatmaps...:  13%|#2        | 12/95 [00:01<00:11,  7.13it/s]"
     ]
    },
    {
     "name": "stderr",
     "output_type": "stream",
     "text": [
      "\rOutput Heatmaps...:  14%|#3        | 13/95 [00:01<00:10,  7.58it/s]"
     ]
    },
    {
     "name": "stderr",
     "output_type": "stream",
     "text": [
      "\rOutput Heatmaps...:  15%|#4        | 14/95 [00:01<00:10,  7.64it/s]"
     ]
    },
    {
     "name": "stderr",
     "output_type": "stream",
     "text": [
      "\rOutput Heatmaps...:  16%|#5        | 15/95 [00:01<00:09,  8.16it/s]"
     ]
    },
    {
     "name": "stderr",
     "output_type": "stream",
     "text": [
      "\rOutput Heatmaps...:  17%|#6        | 16/95 [00:02<00:09,  8.54it/s]"
     ]
    },
    {
     "name": "stderr",
     "output_type": "stream",
     "text": [
      "\rOutput Heatmaps...:  18%|#7        | 17/95 [00:02<00:09,  8.48it/s]"
     ]
    },
    {
     "name": "stderr",
     "output_type": "stream",
     "text": [
      "\rOutput Heatmaps...:  19%|#8        | 18/95 [00:02<00:09,  8.53it/s]"
     ]
    },
    {
     "name": "stderr",
     "output_type": "stream",
     "text": [
      "\rOutput Heatmaps...:  20%|##        | 19/95 [00:02<00:08,  8.56it/s]"
     ]
    },
    {
     "name": "stderr",
     "output_type": "stream",
     "text": [
      "\rOutput Heatmaps...:  21%|##1       | 20/95 [00:02<00:09,  8.13it/s]"
     ]
    },
    {
     "name": "stderr",
     "output_type": "stream",
     "text": [
      "\rOutput Heatmaps...:  22%|##2       | 21/95 [00:02<00:08,  8.55it/s]"
     ]
    },
    {
     "name": "stderr",
     "output_type": "stream",
     "text": [
      "\rOutput Heatmaps...:  23%|##3       | 22/95 [00:02<00:09,  7.79it/s]"
     ]
    },
    {
     "name": "stderr",
     "output_type": "stream",
     "text": [
      "\rOutput Heatmaps...:  24%|##4       | 23/95 [00:02<00:08,  8.24it/s]"
     ]
    },
    {
     "name": "stderr",
     "output_type": "stream",
     "text": [
      "\rOutput Heatmaps...:  25%|##5       | 24/95 [00:03<00:08,  8.57it/s]"
     ]
    },
    {
     "name": "stderr",
     "output_type": "stream",
     "text": [
      "\rOutput Heatmaps...:  26%|##6       | 25/95 [00:03<00:08,  8.62it/s]"
     ]
    },
    {
     "name": "stderr",
     "output_type": "stream",
     "text": [
      "\rOutput Heatmaps...:  27%|##7       | 26/95 [00:03<00:08,  8.60it/s]"
     ]
    },
    {
     "name": "stderr",
     "output_type": "stream",
     "text": [
      "\rOutput Heatmaps...:  28%|##8       | 27/95 [00:03<00:08,  8.17it/s]"
     ]
    },
    {
     "name": "stderr",
     "output_type": "stream",
     "text": [
      "\rOutput Heatmaps...:  29%|##9       | 28/95 [00:03<00:07,  8.50it/s]"
     ]
    },
    {
     "name": "stderr",
     "output_type": "stream",
     "text": [
      "\rOutput Heatmaps...:  32%|###1      | 30/95 [00:03<00:07,  8.98it/s]"
     ]
    },
    {
     "name": "stderr",
     "output_type": "stream",
     "text": [
      "\rOutput Heatmaps...:  33%|###2      | 31/95 [00:03<00:07,  9.09it/s]"
     ]
    },
    {
     "name": "stderr",
     "output_type": "stream",
     "text": [
      "\rOutput Heatmaps...:  34%|###3      | 32/95 [00:03<00:06,  9.02it/s]"
     ]
    },
    {
     "name": "stderr",
     "output_type": "stream",
     "text": [
      "\rOutput Heatmaps...:  35%|###4      | 33/95 [00:04<00:06,  8.98it/s]"
     ]
    },
    {
     "name": "stderr",
     "output_type": "stream",
     "text": [
      "\rOutput Heatmaps...:  36%|###5      | 34/95 [00:04<00:06,  8.89it/s]"
     ]
    },
    {
     "name": "stderr",
     "output_type": "stream",
     "text": [
      "\rOutput Heatmaps...:  37%|###6      | 35/95 [00:04<00:07,  8.42it/s]"
     ]
    },
    {
     "name": "stderr",
     "output_type": "stream",
     "text": [
      "\rOutput Heatmaps...:  38%|###7      | 36/95 [00:04<00:07,  8.40it/s]"
     ]
    },
    {
     "name": "stderr",
     "output_type": "stream",
     "text": [
      "\rOutput Heatmaps...:  39%|###8      | 37/95 [00:04<00:08,  6.65it/s]"
     ]
    },
    {
     "name": "stderr",
     "output_type": "stream",
     "text": [
      "\rOutput Heatmaps...:  40%|####      | 38/95 [00:04<00:09,  6.23it/s]"
     ]
    },
    {
     "name": "stderr",
     "output_type": "stream",
     "text": [
      "\rOutput Heatmaps...:  41%|####1     | 39/95 [00:05<00:09,  5.81it/s]"
     ]
    },
    {
     "name": "stderr",
     "output_type": "stream",
     "text": [
      "\rOutput Heatmaps...:  42%|####2     | 40/95 [00:05<00:09,  5.71it/s]"
     ]
    },
    {
     "name": "stderr",
     "output_type": "stream",
     "text": [
      "\rOutput Heatmaps...:  43%|####3     | 41/95 [00:05<00:10,  5.23it/s]"
     ]
    },
    {
     "name": "stderr",
     "output_type": "stream",
     "text": [
      "\rOutput Heatmaps...:  44%|####4     | 42/95 [00:05<00:11,  4.68it/s]"
     ]
    },
    {
     "name": "stderr",
     "output_type": "stream",
     "text": [
      "\rOutput Heatmaps...:  45%|####5     | 43/95 [00:05<00:09,  5.24it/s]"
     ]
    },
    {
     "name": "stderr",
     "output_type": "stream",
     "text": [
      "\rOutput Heatmaps...:  46%|####6     | 44/95 [00:05<00:08,  6.02it/s]"
     ]
    },
    {
     "name": "stderr",
     "output_type": "stream",
     "text": [
      "\rOutput Heatmaps...:  47%|####7     | 45/95 [00:06<00:07,  6.71it/s]"
     ]
    },
    {
     "name": "stderr",
     "output_type": "stream",
     "text": [
      "\rOutput Heatmaps...:  48%|####8     | 46/95 [00:06<00:07,  6.93it/s]"
     ]
    },
    {
     "name": "stderr",
     "output_type": "stream",
     "text": [
      "\rOutput Heatmaps...:  49%|####9     | 47/95 [00:06<00:06,  7.18it/s]"
     ]
    },
    {
     "name": "stderr",
     "output_type": "stream",
     "text": [
      "\rOutput Heatmaps...:  51%|#####     | 48/95 [00:06<00:06,  7.67it/s]"
     ]
    },
    {
     "name": "stderr",
     "output_type": "stream",
     "text": [
      "\rOutput Heatmaps...:  52%|#####1    | 49/95 [00:06<00:05,  7.95it/s]"
     ]
    },
    {
     "name": "stderr",
     "output_type": "stream",
     "text": [
      "\rOutput Heatmaps...:  53%|#####2    | 50/95 [00:06<00:05,  8.19it/s]"
     ]
    },
    {
     "name": "stderr",
     "output_type": "stream",
     "text": [
      "\rOutput Heatmaps...:  55%|#####4    | 52/95 [00:06<00:04,  8.70it/s]"
     ]
    },
    {
     "name": "stderr",
     "output_type": "stream",
     "text": [
      "\rOutput Heatmaps...:  56%|#####5    | 53/95 [00:06<00:04,  8.77it/s]"
     ]
    },
    {
     "name": "stderr",
     "output_type": "stream",
     "text": [
      "\rOutput Heatmaps...:  57%|#####6    | 54/95 [00:07<00:04,  8.47it/s]"
     ]
    },
    {
     "name": "stderr",
     "output_type": "stream",
     "text": [
      "\rOutput Heatmaps...:  58%|#####7    | 55/95 [00:07<00:05,  7.70it/s]"
     ]
    },
    {
     "name": "stderr",
     "output_type": "stream",
     "text": [
      "\rOutput Heatmaps...:  59%|#####8    | 56/95 [00:07<00:05,  6.88it/s]"
     ]
    },
    {
     "name": "stderr",
     "output_type": "stream",
     "text": [
      "\rOutput Heatmaps...:  61%|######1   | 58/95 [00:07<00:04,  7.71it/s]"
     ]
    },
    {
     "name": "stderr",
     "output_type": "stream",
     "text": [
      "\rOutput Heatmaps...:  62%|######2   | 59/95 [00:07<00:04,  8.24it/s]"
     ]
    },
    {
     "name": "stderr",
     "output_type": "stream",
     "text": [
      "\rOutput Heatmaps...:  63%|######3   | 60/95 [00:07<00:04,  8.59it/s]"
     ]
    },
    {
     "name": "stderr",
     "output_type": "stream",
     "text": [
      "\rOutput Heatmaps...:  64%|######4   | 61/95 [00:07<00:03,  8.91it/s]"
     ]
    },
    {
     "name": "stderr",
     "output_type": "stream",
     "text": [
      "\rOutput Heatmaps...:  66%|######6   | 63/95 [00:08<00:03,  9.33it/s]"
     ]
    },
    {
     "name": "stderr",
     "output_type": "stream",
     "text": [
      "\rOutput Heatmaps...:  68%|######8   | 65/95 [00:08<00:03,  9.63it/s]"
     ]
    },
    {
     "name": "stderr",
     "output_type": "stream",
     "text": [
      "\rOutput Heatmaps...:  71%|#######   | 67/95 [00:08<00:02,  9.86it/s]"
     ]
    },
    {
     "name": "stderr",
     "output_type": "stream",
     "text": [
      "\rOutput Heatmaps...:  73%|#######2  | 69/95 [00:08<00:02, 10.08it/s]"
     ]
    },
    {
     "name": "stderr",
     "output_type": "stream",
     "text": [
      "\rOutput Heatmaps...:  75%|#######4  | 71/95 [00:08<00:02, 10.22it/s]"
     ]
    },
    {
     "name": "stderr",
     "output_type": "stream",
     "text": [
      "\rOutput Heatmaps...:  77%|#######6  | 73/95 [00:09<00:02, 10.30it/s]"
     ]
    },
    {
     "name": "stderr",
     "output_type": "stream",
     "text": [
      "\rOutput Heatmaps...:  79%|#######8  | 75/95 [00:09<00:01, 10.22it/s]"
     ]
    },
    {
     "name": "stderr",
     "output_type": "stream",
     "text": [
      "\rOutput Heatmaps...:  81%|########1 | 77/95 [00:09<00:01, 10.34it/s]"
     ]
    },
    {
     "name": "stderr",
     "output_type": "stream",
     "text": [
      "\rOutput Heatmaps...:  83%|########3 | 79/95 [00:09<00:01, 10.34it/s]"
     ]
    },
    {
     "name": "stderr",
     "output_type": "stream",
     "text": [
      "\rOutput Heatmaps...:  85%|########5 | 81/95 [00:09<00:01,  8.70it/s]"
     ]
    },
    {
     "name": "stderr",
     "output_type": "stream",
     "text": [
      "\rOutput Heatmaps...:  86%|########6 | 82/95 [00:10<00:02,  5.64it/s]"
     ]
    },
    {
     "name": "stderr",
     "output_type": "stream",
     "text": [
      "\rOutput Heatmaps...:  87%|########7 | 83/95 [00:10<00:02,  4.85it/s]"
     ]
    },
    {
     "name": "stderr",
     "output_type": "stream",
     "text": [
      "\rOutput Heatmaps...:  88%|########8 | 84/95 [00:10<00:02,  4.17it/s]"
     ]
    },
    {
     "name": "stderr",
     "output_type": "stream",
     "text": [
      "\rOutput Heatmaps...:  89%|########9 | 85/95 [00:11<00:02,  3.81it/s]"
     ]
    },
    {
     "name": "stderr",
     "output_type": "stream",
     "text": [
      "\rOutput Heatmaps...:  91%|######### | 86/95 [00:11<00:02,  4.39it/s]"
     ]
    },
    {
     "name": "stderr",
     "output_type": "stream",
     "text": [
      "\rOutput Heatmaps...:  93%|#########2| 88/95 [00:11<00:01,  5.33it/s]"
     ]
    },
    {
     "name": "stderr",
     "output_type": "stream",
     "text": [
      "\rOutput Heatmaps...:  94%|#########3| 89/95 [00:11<00:00,  6.18it/s]"
     ]
    },
    {
     "name": "stderr",
     "output_type": "stream",
     "text": [
      "\rOutput Heatmaps...:  95%|#########4| 90/95 [00:11<00:00,  6.74it/s]"
     ]
    },
    {
     "name": "stderr",
     "output_type": "stream",
     "text": [
      "\rOutput Heatmaps...:  96%|#########5| 91/95 [00:11<00:00,  7.41it/s]"
     ]
    },
    {
     "name": "stderr",
     "output_type": "stream",
     "text": [
      "\rOutput Heatmaps...:  98%|#########7| 93/95 [00:12<00:00,  8.13it/s]"
     ]
    },
    {
     "name": "stderr",
     "output_type": "stream",
     "text": [
      "\rOutput Heatmaps...: 100%|##########| 95/95 [00:12<00:00,  8.70it/s]"
     ]
    },
    {
     "name": "stderr",
     "output_type": "stream",
     "text": [
      "\rOutput Heatmaps...: 100%|##########| 95/95 [00:12<00:00,  7.76it/s]"
     ]
    },
    {
     "name": "stderr",
     "output_type": "stream",
     "text": [
      "\n"
     ]
    },
    {
     "data": {
      "text/plain": [
       "<matplotlib.figure.Figure at 0x11480f0>"
      ]
     },
     "execution_count": 0,
     "metadata": {},
     "output_type": "execute_result"
    }
   ],
   "source": [
    "# workings\n",
    "all_ts = np.random.uniform(low=50.0, high=150.0, size=(200,))\n",
    "print(random_series)\n",
    "#print(testdata[['Open','High', \"Low\", \"Close\"]])\n",
    "testy = testdata[[\"Open\",\"High\", \"Low\",\"Close\"]].values\n",
    "flat_list = [item for sublist in testy for item in sublist]\n",
    "\n",
    "from series2gaf import *\n",
    "random_series = np.random.uniform(low=50.0, high=150.0, size=(200,))\n",
    "\n",
    "timeSeries = list(random_series)\n",
    "windowSize = 50 #5\n",
    "rollingLength = 10 #2\n",
    "fileName = 'demo_%02d_%02d' % (windowSize, rollingLength)\n",
    "# gan_rand is made  up of 10 elements (list), within that is a further 50 elements (np.array) and in each of those arrays we have a further 50 numbers.\n",
    "# when using win = 5 and rolling = 2, then gan rand was 95 elements, with 5 further elements (np.array) and then another 5 inside.\n",
    "gan_rand = GenerateGAF(all_ts=flat_list[0:200],\n",
    "            window_size=windowSize,\n",
    "            rolling_length=rollingLength,\n",
    "            fname=fileName,\n",
    "            normalize_window_scaling=2.0)\n",
    "\n",
    "ts_img = np.load('%s_gaf.pkl' % fileName)\n",
    "PlotHeatmap(ts_img)"
   ]
  }
 ],
 "metadata": {
  "kernelspec": {
   "display_name": "Python 2",
   "language": "python",
   "name": "python2"
  },
  "language_info": {
   "codemirror_mode": {
    "name": "ipython",
    "version": 2
   },
   "file_extension": ".py",
   "mimetype": "text/x-python",
   "name": "python",
   "nbconvert_exporter": "python",
   "pygments_lexer": "ipython2",
   "version": "2.7.6"
  }
 },
 "nbformat": 4,
 "nbformat_minor": 0
}
