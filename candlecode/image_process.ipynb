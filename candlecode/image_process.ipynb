{
 "cells": [
  {
   "cell_type": "code",
   "execution_count": null,
   "metadata": {
    "collapsed": true
   },
   "outputs": [],
   "source": [
    "# candle sticks image processing\n",
    "# simple example from the researchers code https://github.com/pecu/Series2GAF/blob/master/cnn_example/README.md\n",
    "# GOAL# firstly imgae process the cnadle stick chart, high open low close needed I guess?\n",
    "# then select the model featres, and pattern match the shit out of it.\n",
    "import numpy as np\n",
    "from series2gaf import GenerateGAF\n",
    "\n"
   ]
  }
 ],
 "metadata": {
  "kernelspec": {
   "display_name": "Python 2",
   "language": "python",
   "name": "python2"
  },
  "language_info": {
   "codemirror_mode": {
    "name": "ipython",
    "version": 2
   },
   "file_extension": ".py",
   "mimetype": "text/x-python",
   "name": "python",
   "nbconvert_exporter": "python",
   "pygments_lexer": "ipython2",
   "version": "2.7.6"
  }
 },
 "nbformat": 4,
 "nbformat_minor": 0
}
